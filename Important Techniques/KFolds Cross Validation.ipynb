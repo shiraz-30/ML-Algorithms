{
 "cells": [
  {
   "cell_type": "code",
   "execution_count": 1,
   "id": "f6f80616",
   "metadata": {},
   "outputs": [],
   "source": [
    "import numpy as np\n",
    "\n",
    "from sklearn.model_selection import cross_val_score\n",
    "from sklearn.linear_model import LogisticRegression\n",
    "from sklearn.tree import DecisionTreeClassifier\n",
    "from sklearn.svm import SVC\n",
    "from sklearn.ensemble import RandomForestClassifier"
   ]
  },
  {
   "cell_type": "code",
   "execution_count": 2,
   "id": "37648c2f",
   "metadata": {},
   "outputs": [],
   "source": [
    "from sklearn.datasets import load_iris\n",
    "iris = load_iris()"
   ]
  },
  {
   "cell_type": "code",
   "execution_count": 3,
   "id": "ff5550f9",
   "metadata": {},
   "outputs": [
    {
     "data": {
      "text/plain": [
       "(array([0.96, 0.96, 0.94]), 0.9533333333333333)"
      ]
     },
     "execution_count": 3,
     "metadata": {},
     "output_type": "execute_result"
    }
   ],
   "source": [
    "#Logistic Regression\n",
    "logreg_scores = cross_val_score(LogisticRegression(solver='liblinear',multi_class='ovr'), iris.data, iris.target, cv = 3)\n",
    "logreg_scores , np.average(logreg_scores)"
   ]
  },
  {
   "cell_type": "code",
   "execution_count": 4,
   "id": "98603c99",
   "metadata": {},
   "outputs": [
    {
     "data": {
      "text/plain": [
       "(array([0.98, 0.92, 0.98]), 0.96)"
      ]
     },
     "execution_count": 4,
     "metadata": {},
     "output_type": "execute_result"
    }
   ],
   "source": [
    "#Decision Tree\n",
    "dectree_scores = cross_val_score(DecisionTreeClassifier(), iris.data, iris.target, cv = 3)\n",
    "dectree_scores , np.average(dectree_scores)"
   ]
  },
  {
   "cell_type": "code",
   "execution_count": 5,
   "id": "f901235e",
   "metadata": {},
   "outputs": [
    {
     "data": {
      "text/plain": [
       "(array([0.96, 0.98, 0.94]), 0.96)"
      ]
     },
     "execution_count": 5,
     "metadata": {},
     "output_type": "execute_result"
    }
   ],
   "source": [
    "#SVM\n",
    "svm_scores = cross_val_score(SVC(), iris.data, iris.target, cv = 3)\n",
    "svm_scores ,  np.average(svm_scores)"
   ]
  },
  {
   "cell_type": "code",
   "execution_count": 6,
   "id": "2d99938c",
   "metadata": {},
   "outputs": [
    {
     "data": {
      "text/plain": [
       "(array([0.98, 0.94, 0.96]), 0.96)"
      ]
     },
     "execution_count": 6,
     "metadata": {},
     "output_type": "execute_result"
    }
   ],
   "source": [
    "#Random Forest\n",
    "ranfor_scores = cross_val_score(RandomForestClassifier(n_estimators = 50), iris.data, iris.target, cv = 3)\n",
    "ranfor_scores , np.average(ranfor_scores)"
   ]
  },
  {
   "cell_type": "markdown",
   "id": "f2f2c1d6",
   "metadata": {},
   "source": [
    "### Random Forest gives the highest score."
   ]
  },
  {
   "cell_type": "code",
   "execution_count": 8,
   "id": "87beae28",
   "metadata": {},
   "outputs": [],
   "source": [
    "def get_score(model, X_train, X_test, y_train, y_test):\n",
    "    model.fit(X_train, y_train)\n",
    "    return model.score(X_test, y_test)"
   ]
  },
  {
   "cell_type": "code",
   "execution_count": 9,
   "id": "7ba4ebfc",
   "metadata": {},
   "outputs": [],
   "source": [
    "from sklearn.model_selection import StratifiedKFold\n",
    "folds = StratifiedKFold(n_splits=3)\n",
    "\n",
    "scores_logreg = []\n",
    "scores_dectree = []\n",
    "scores_svm = []\n",
    "scores_ranfor = []\n",
    "\n",
    "for train_index, test_index in folds.split(iris.data, iris.target):\n",
    "    X_train, X_test, y_train, y_test = iris.data[train_index], iris.data[test_index], iris.target[train_index], iris.target[test_index]\n",
    "                                       \n",
    "    scores_logreg.append(get_score(LogisticRegression(solver='liblinear',multi_class='ovr'), X_train, X_test, y_train, y_test))\n",
    "    scores_dectree.append(get_score(DecisionTreeClassifier(), X_train, X_test, y_train, y_test))\n",
    "    scores_svm.append(get_score(SVC(gamma='auto'), X_train, X_test, y_train, y_test))\n",
    "    scores_ranfor.append(get_score(RandomForestClassifier(n_estimators=40), X_train, X_test, y_train, y_test))"
   ]
  },
  {
   "cell_type": "code",
   "execution_count": 10,
   "id": "7fd8509a",
   "metadata": {},
   "outputs": [
    {
     "data": {
      "text/plain": [
       "([0.96, 0.96, 0.94], [0.98, 0.94, 1.0], [0.98, 0.98, 0.96], [0.98, 0.94, 0.96])"
      ]
     },
     "execution_count": 10,
     "metadata": {},
     "output_type": "execute_result"
    }
   ],
   "source": [
    "scores_logreg , scores_dectree , scores_svm , scores_ranfor"
   ]
  },
  {
   "cell_type": "code",
   "execution_count": 11,
   "id": "f4301607",
   "metadata": {},
   "outputs": [
    {
     "data": {
      "text/plain": [
       "(0.9533333333333333, 0.9733333333333333, 0.9733333333333333, 0.96)"
      ]
     },
     "execution_count": 11,
     "metadata": {},
     "output_type": "execute_result"
    }
   ],
   "source": [
    "np.average(scores_logreg) , np.average(scores_dectree) , np.average(scores_svm), np.average(scores_ranfor)"
   ]
  },
  {
   "cell_type": "code",
   "execution_count": null,
   "id": "0c21a599",
   "metadata": {},
   "outputs": [],
   "source": []
  }
 ],
 "metadata": {
  "kernelspec": {
   "display_name": "Python 3 (ipykernel)",
   "language": "python",
   "name": "python3"
  },
  "language_info": {
   "codemirror_mode": {
    "name": "ipython",
    "version": 3
   },
   "file_extension": ".py",
   "mimetype": "text/x-python",
   "name": "python",
   "nbconvert_exporter": "python",
   "pygments_lexer": "ipython3",
   "version": "3.9.1"
  }
 },
 "nbformat": 4,
 "nbformat_minor": 5
}
