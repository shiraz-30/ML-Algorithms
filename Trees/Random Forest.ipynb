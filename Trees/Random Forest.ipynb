{
 "cells": [
  {
   "cell_type": "code",
   "execution_count": 8,
   "id": "629803dd",
   "metadata": {},
   "outputs": [],
   "source": [
    "from sklearn.datasets import load_iris\n",
    "iris = load_iris()\n",
    "import pandas as pd"
   ]
  },
  {
   "cell_type": "code",
   "execution_count": 9,
   "id": "d87143df",
   "metadata": {},
   "outputs": [
    {
     "data": {
      "text/plain": [
       "['DESCR',\n",
       " 'data',\n",
       " 'data_module',\n",
       " 'feature_names',\n",
       " 'filename',\n",
       " 'frame',\n",
       " 'target',\n",
       " 'target_names']"
      ]
     },
     "execution_count": 9,
     "metadata": {},
     "output_type": "execute_result"
    }
   ],
   "source": [
    "dir(iris)"
   ]
  },
  {
   "cell_type": "code",
   "execution_count": 10,
   "id": "204676f6",
   "metadata": {},
   "outputs": [
    {
     "data": {
      "text/html": [
       "<div>\n",
       "<style scoped>\n",
       "    .dataframe tbody tr th:only-of-type {\n",
       "        vertical-align: middle;\n",
       "    }\n",
       "\n",
       "    .dataframe tbody tr th {\n",
       "        vertical-align: top;\n",
       "    }\n",
       "\n",
       "    .dataframe thead th {\n",
       "        text-align: right;\n",
       "    }\n",
       "</style>\n",
       "<table border=\"1\" class=\"dataframe\">\n",
       "  <thead>\n",
       "    <tr style=\"text-align: right;\">\n",
       "      <th></th>\n",
       "      <th>sepal length (cm)</th>\n",
       "      <th>sepal width (cm)</th>\n",
       "      <th>petal length (cm)</th>\n",
       "      <th>petal width (cm)</th>\n",
       "    </tr>\n",
       "  </thead>\n",
       "  <tbody>\n",
       "    <tr>\n",
       "      <th>0</th>\n",
       "      <td>5.1</td>\n",
       "      <td>3.5</td>\n",
       "      <td>1.4</td>\n",
       "      <td>0.2</td>\n",
       "    </tr>\n",
       "    <tr>\n",
       "      <th>1</th>\n",
       "      <td>4.9</td>\n",
       "      <td>3.0</td>\n",
       "      <td>1.4</td>\n",
       "      <td>0.2</td>\n",
       "    </tr>\n",
       "    <tr>\n",
       "      <th>2</th>\n",
       "      <td>4.7</td>\n",
       "      <td>3.2</td>\n",
       "      <td>1.3</td>\n",
       "      <td>0.2</td>\n",
       "    </tr>\n",
       "    <tr>\n",
       "      <th>3</th>\n",
       "      <td>4.6</td>\n",
       "      <td>3.1</td>\n",
       "      <td>1.5</td>\n",
       "      <td>0.2</td>\n",
       "    </tr>\n",
       "    <tr>\n",
       "      <th>4</th>\n",
       "      <td>5.0</td>\n",
       "      <td>3.6</td>\n",
       "      <td>1.4</td>\n",
       "      <td>0.2</td>\n",
       "    </tr>\n",
       "  </tbody>\n",
       "</table>\n",
       "</div>"
      ],
      "text/plain": [
       "   sepal length (cm)  sepal width (cm)  petal length (cm)  petal width (cm)\n",
       "0                5.1               3.5                1.4               0.2\n",
       "1                4.9               3.0                1.4               0.2\n",
       "2                4.7               3.2                1.3               0.2\n",
       "3                4.6               3.1                1.5               0.2\n",
       "4                5.0               3.6                1.4               0.2"
      ]
     },
     "execution_count": 10,
     "metadata": {},
     "output_type": "execute_result"
    }
   ],
   "source": [
    "df = pd.DataFrame(iris.data, columns=iris.feature_names)\n",
    "df.head()"
   ]
  },
  {
   "cell_type": "code",
   "execution_count": 11,
   "id": "3bed512a",
   "metadata": {},
   "outputs": [
    {
     "name": "stdout",
     "output_type": "stream",
     "text": [
      "[5.1 3.5 1.4 0.2] 0\n",
      "[4.9 3.  1.4 0.2] 0\n",
      "[4.7 3.2 1.3 0.2] 0\n",
      "[4.6 3.1 1.5 0.2] 0\n",
      "[5.  3.6 1.4 0.2] 0\n",
      "[5.4 3.9 1.7 0.4] 0\n",
      "[4.6 3.4 1.4 0.3] 0\n",
      "[5.  3.4 1.5 0.2] 0\n",
      "[4.4 2.9 1.4 0.2] 0\n",
      "[4.9 3.1 1.5 0.1] 0\n",
      "[5.4 3.7 1.5 0.2] 0\n",
      "[4.8 3.4 1.6 0.2] 0\n",
      "[4.8 3.  1.4 0.1] 0\n",
      "[4.3 3.  1.1 0.1] 0\n",
      "[5.8 4.  1.2 0.2] 0\n",
      "[5.7 4.4 1.5 0.4] 0\n",
      "[5.4 3.9 1.3 0.4] 0\n",
      "[5.1 3.5 1.4 0.3] 0\n",
      "[5.7 3.8 1.7 0.3] 0\n",
      "[5.1 3.8 1.5 0.3] 0\n",
      "[5.4 3.4 1.7 0.2] 0\n",
      "[5.1 3.7 1.5 0.4] 0\n",
      "[4.6 3.6 1.  0.2] 0\n",
      "[5.1 3.3 1.7 0.5] 0\n",
      "[4.8 3.4 1.9 0.2] 0\n",
      "[5.  3.  1.6 0.2] 0\n",
      "[5.  3.4 1.6 0.4] 0\n",
      "[5.2 3.5 1.5 0.2] 0\n",
      "[5.2 3.4 1.4 0.2] 0\n",
      "[4.7 3.2 1.6 0.2] 0\n",
      "[4.8 3.1 1.6 0.2] 0\n",
      "[5.4 3.4 1.5 0.4] 0\n",
      "[5.2 4.1 1.5 0.1] 0\n",
      "[5.5 4.2 1.4 0.2] 0\n",
      "[4.9 3.1 1.5 0.2] 0\n",
      "[5.  3.2 1.2 0.2] 0\n",
      "[5.5 3.5 1.3 0.2] 0\n",
      "[4.9 3.6 1.4 0.1] 0\n",
      "[4.4 3.  1.3 0.2] 0\n",
      "[5.1 3.4 1.5 0.2] 0\n",
      "[5.  3.5 1.3 0.3] 0\n",
      "[4.5 2.3 1.3 0.3] 0\n",
      "[4.4 3.2 1.3 0.2] 0\n",
      "[5.  3.5 1.6 0.6] 0\n",
      "[5.1 3.8 1.9 0.4] 0\n",
      "[4.8 3.  1.4 0.3] 0\n",
      "[5.1 3.8 1.6 0.2] 0\n",
      "[4.6 3.2 1.4 0.2] 0\n",
      "[5.3 3.7 1.5 0.2] 0\n",
      "[5.  3.3 1.4 0.2] 0\n",
      "[7.  3.2 4.7 1.4] 1\n",
      "[6.4 3.2 4.5 1.5] 1\n",
      "[6.9 3.1 4.9 1.5] 1\n",
      "[5.5 2.3 4.  1.3] 1\n",
      "[6.5 2.8 4.6 1.5] 1\n",
      "[5.7 2.8 4.5 1.3] 1\n",
      "[6.3 3.3 4.7 1.6] 1\n",
      "[4.9 2.4 3.3 1. ] 1\n",
      "[6.6 2.9 4.6 1.3] 1\n",
      "[5.2 2.7 3.9 1.4] 1\n",
      "[5.  2.  3.5 1. ] 1\n",
      "[5.9 3.  4.2 1.5] 1\n",
      "[6.  2.2 4.  1. ] 1\n",
      "[6.1 2.9 4.7 1.4] 1\n",
      "[5.6 2.9 3.6 1.3] 1\n",
      "[6.7 3.1 4.4 1.4] 1\n",
      "[5.6 3.  4.5 1.5] 1\n",
      "[5.8 2.7 4.1 1. ] 1\n",
      "[6.2 2.2 4.5 1.5] 1\n",
      "[5.6 2.5 3.9 1.1] 1\n",
      "[5.9 3.2 4.8 1.8] 1\n",
      "[6.1 2.8 4.  1.3] 1\n",
      "[6.3 2.5 4.9 1.5] 1\n",
      "[6.1 2.8 4.7 1.2] 1\n",
      "[6.4 2.9 4.3 1.3] 1\n",
      "[6.6 3.  4.4 1.4] 1\n",
      "[6.8 2.8 4.8 1.4] 1\n",
      "[6.7 3.  5.  1.7] 1\n",
      "[6.  2.9 4.5 1.5] 1\n",
      "[5.7 2.6 3.5 1. ] 1\n",
      "[5.5 2.4 3.8 1.1] 1\n",
      "[5.5 2.4 3.7 1. ] 1\n",
      "[5.8 2.7 3.9 1.2] 1\n",
      "[6.  2.7 5.1 1.6] 1\n",
      "[5.4 3.  4.5 1.5] 1\n",
      "[6.  3.4 4.5 1.6] 1\n",
      "[6.7 3.1 4.7 1.5] 1\n",
      "[6.3 2.3 4.4 1.3] 1\n",
      "[5.6 3.  4.1 1.3] 1\n",
      "[5.5 2.5 4.  1.3] 1\n",
      "[5.5 2.6 4.4 1.2] 1\n",
      "[6.1 3.  4.6 1.4] 1\n",
      "[5.8 2.6 4.  1.2] 1\n",
      "[5.  2.3 3.3 1. ] 1\n",
      "[5.6 2.7 4.2 1.3] 1\n",
      "[5.7 3.  4.2 1.2] 1\n",
      "[5.7 2.9 4.2 1.3] 1\n",
      "[6.2 2.9 4.3 1.3] 1\n",
      "[5.1 2.5 3.  1.1] 1\n",
      "[5.7 2.8 4.1 1.3] 1\n",
      "[6.3 3.3 6.  2.5] 2\n",
      "[5.8 2.7 5.1 1.9] 2\n",
      "[7.1 3.  5.9 2.1] 2\n",
      "[6.3 2.9 5.6 1.8] 2\n",
      "[6.5 3.  5.8 2.2] 2\n",
      "[7.6 3.  6.6 2.1] 2\n",
      "[4.9 2.5 4.5 1.7] 2\n",
      "[7.3 2.9 6.3 1.8] 2\n",
      "[6.7 2.5 5.8 1.8] 2\n",
      "[7.2 3.6 6.1 2.5] 2\n",
      "[6.5 3.2 5.1 2. ] 2\n",
      "[6.4 2.7 5.3 1.9] 2\n",
      "[6.8 3.  5.5 2.1] 2\n",
      "[5.7 2.5 5.  2. ] 2\n",
      "[5.8 2.8 5.1 2.4] 2\n",
      "[6.4 3.2 5.3 2.3] 2\n",
      "[6.5 3.  5.5 1.8] 2\n",
      "[7.7 3.8 6.7 2.2] 2\n",
      "[7.7 2.6 6.9 2.3] 2\n",
      "[6.  2.2 5.  1.5] 2\n",
      "[6.9 3.2 5.7 2.3] 2\n",
      "[5.6 2.8 4.9 2. ] 2\n",
      "[7.7 2.8 6.7 2. ] 2\n",
      "[6.3 2.7 4.9 1.8] 2\n",
      "[6.7 3.3 5.7 2.1] 2\n",
      "[7.2 3.2 6.  1.8] 2\n",
      "[6.2 2.8 4.8 1.8] 2\n",
      "[6.1 3.  4.9 1.8] 2\n",
      "[6.4 2.8 5.6 2.1] 2\n",
      "[7.2 3.  5.8 1.6] 2\n",
      "[7.4 2.8 6.1 1.9] 2\n",
      "[7.9 3.8 6.4 2. ] 2\n",
      "[6.4 2.8 5.6 2.2] 2\n",
      "[6.3 2.8 5.1 1.5] 2\n",
      "[6.1 2.6 5.6 1.4] 2\n",
      "[7.7 3.  6.1 2.3] 2\n",
      "[6.3 3.4 5.6 2.4] 2\n",
      "[6.4 3.1 5.5 1.8] 2\n",
      "[6.  3.  4.8 1.8] 2\n",
      "[6.9 3.1 5.4 2.1] 2\n",
      "[6.7 3.1 5.6 2.4] 2\n",
      "[6.9 3.1 5.1 2.3] 2\n",
      "[5.8 2.7 5.1 1.9] 2\n",
      "[6.8 3.2 5.9 2.3] 2\n",
      "[6.7 3.3 5.7 2.5] 2\n",
      "[6.7 3.  5.2 2.3] 2\n",
      "[6.3 2.5 5.  1.9] 2\n",
      "[6.5 3.  5.2 2. ] 2\n",
      "[6.2 3.4 5.4 2.3] 2\n",
      "[5.9 3.  5.1 1.8] 2\n"
     ]
    }
   ],
   "source": [
    "for i in range(0, len(iris.data)):\n",
    "    x = iris.data[i]\n",
    "    y = iris.target[i]\n",
    "    print(x,y)"
   ]
  },
  {
   "cell_type": "code",
   "execution_count": 12,
   "id": "5e25f550",
   "metadata": {},
   "outputs": [],
   "source": [
    "from sklearn.model_selection import train_test_split\n",
    "X_train, X_test, Y_train, Y_test = train_test_split(iris.data,iris.target,test_size=0.2)"
   ]
  },
  {
   "cell_type": "code",
   "execution_count": 13,
   "id": "3bbc017e",
   "metadata": {},
   "outputs": [
    {
     "data": {
      "text/plain": [
       "RandomForestClassifier()"
      ]
     },
     "execution_count": 13,
     "metadata": {},
     "output_type": "execute_result"
    }
   ],
   "source": [
    "from sklearn.ensemble import RandomForestClassifier\n",
    "model = RandomForestClassifier()\n",
    "model.fit(X_train, Y_train)"
   ]
  },
  {
   "cell_type": "code",
   "execution_count": 15,
   "id": "daad6b07",
   "metadata": {},
   "outputs": [
    {
     "data": {
      "text/plain": [
       "0.9666666666666667"
      ]
     },
     "execution_count": 15,
     "metadata": {},
     "output_type": "execute_result"
    }
   ],
   "source": [
    "model.score(X_test, Y_test)"
   ]
  },
  {
   "cell_type": "code",
   "execution_count": null,
   "id": "c4d27bb1",
   "metadata": {},
   "outputs": [],
   "source": []
  },
  {
   "cell_type": "code",
   "execution_count": null,
   "id": "150ed6e6",
   "metadata": {},
   "outputs": [],
   "source": []
  }
 ],
 "metadata": {
  "kernelspec": {
   "display_name": "Python 3 (ipykernel)",
   "language": "python",
   "name": "python3"
  },
  "language_info": {
   "codemirror_mode": {
    "name": "ipython",
    "version": 3
   },
   "file_extension": ".py",
   "mimetype": "text/x-python",
   "name": "python",
   "nbconvert_exporter": "python",
   "pygments_lexer": "ipython3",
   "version": "3.9.1"
  }
 },
 "nbformat": 4,
 "nbformat_minor": 5
}
